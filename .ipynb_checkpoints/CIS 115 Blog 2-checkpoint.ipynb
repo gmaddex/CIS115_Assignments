{
 "metadata": {
  "name": "",
  "signature": "sha256:fc831472726ad9a8fd1143c2407ac52052da06864d3bb75114af1e8d5bf55f97"
 },
 "nbformat": 3,
 "nbformat_minor": 0,
 "worksheets": [
  {
   "cells": [
    {
     "cell_type": "heading",
     "level": 4,
     "metadata": {},
     "source": [
      "SHA-2"
     ]
    },
    {
     "cell_type": "markdown",
     "metadata": {},
     "source": [
      "     The algorithm I chose was Secure Hash Algorithm, or SHA-2. It was developed by the National Security Agency in 2001 to supercede SHA-1, which itself followed SHA-0, two related families of hash functions. Through a series of complex mathematical operations, the algorithm produces a \u2018hash\u2019, or a sort of digital signature represented in hexadecimal. These signatures are used for security and and data consistency and circumvent problematic situations, like sending credit card information through various public relays, or storing passwords as strings in a database. These signatures allow us to verify that the data we\u2019re receiving is in fact the same data we expected, without exposing it to anyone who shouldn\u2019t see it.\n",
      "     For this algorithm to be effective, each signature must be unreproducible, and the math operations must be impossible to practically undo by current technological standards. For example, the SHA256 (Secure hash algorithm that produces an output with 256 bits) hash for the String \u201c \u201c is:\n"
     ]
    },
    {
     "cell_type": "code",
     "collapsed": false,
     "input": [
      "36a9e7f1c95b82ffb99743e0c5c4ce95d83c9a430aac59f84ef3cbfab6145068"
     ],
     "language": "python",
     "metadata": {},
     "outputs": []
    },
    {
     "cell_type": "markdown",
     "metadata": {},
     "source": [
      "The SHA256 hash produced by adding one additional space character (\u201c  \u201c) is:"
     ]
    },
    {
     "cell_type": "code",
     "collapsed": false,
     "input": [
      "6c179f21e6f62b629055d8ab40f454ed02e48b68563913473b857d3638e23b28"
     ],
     "language": "python",
     "metadata": {},
     "outputs": []
    },
    {
     "cell_type": "markdown",
     "metadata": {},
     "source": [
      "     While seemingly random, this security algorithm rests on the fundamental principle that the same string will result in the same hash every time, and only that one string is capable of doing so. SHA-2 was developed in response to the discovery of different strings producing the same SHA-1 hashes. It was incredibly time and cost consuming to do so, but seeing as this was no longer out of reach for well-funded governments or criminal organizations, SHA-1 was largely deprecated for security purposes and the much more complex SHA-2 was introduced to replace it. While this flaw made SHA-1 unsuitable for security purposes, it\u2019s still used in applications such as Git on account of the fact that it is still effective as a consistency check for such uses as recognizing data corruption.\n",
      "      Although it mentioned a different type of cryptography altogether, the chapter in the algorithm textbook on public key cryptography was very interesting to me. It explained a lot about how these hashes are actually used when it comes to keeping messages secret and how important it is for these math functions to be \u2018undoable\u2019. It explained that with a public algorithm and simple operations such as multiplication, it would be relatively easy to use the opposite operation (division) to determine the input. Thankfully, very complicated operations that I don\u2019t quite understand are used instead.\n",
      "     The reason I chose this algorithm is because I knew it had to do with cryptography, I just never quite knew what exactly it was. I had heard of it and knew that I had even used it personally in projects such as creating a vpn, but felt it was probably better to have a healthy understanding of this thing I was using. Now I understand the point of verifying the hashes of certain internet downloads and other things.\n",
      "     Not only did learning about this algorithm open my eyes to the positives of security and cryptography, but it showed me just how vulnerable your information can be. If a beginner was going to create a database to store login information, for example, storing passwords as strings may sound like the most straightforward route to accomplish this. After learning that there is an alternative, however, it seems hard to imagine that anyone would ever think the former idea was ever even in the running. I also didn\u2019t realize how many access points you expose your data to through the internet. I\u2019d venture to say most laymen don\u2019t know quite how the internet works despite using it in most facets of their life and the fact that without this algorithms similar to this that data would be public is scary.\n"
     ]
    }
   ],
   "metadata": {}
  }
 ]
}