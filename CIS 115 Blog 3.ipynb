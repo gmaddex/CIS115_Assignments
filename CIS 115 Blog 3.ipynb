{
 "cells": [
  {
   "cell_type": "markdown",
   "metadata": {},
   "source": [
    "#### Making Meaning: The Pattern on the Stone"
   ]
  },
  {
   "cell_type": "markdown",
   "metadata": {},
   "source": [
    "I rather liked The Pattern on the Stone. It, amazingly, managed to keep me interested in the lower level workings of a computer, which no book or article has really managed to make me do. I think it's easy as a computer science student to want to disregard these lower level principles. My high school computer science teacher shared a quote by Edsger Dijkstra with my class that I had misinterpreted at the time: \"Computer science is no more about computers than astronomy is about telescopes.\" I now realize it was an effort on her part to inform those solely interested in building computers were barking up the wrong tree, but I took it as an excuse to write off all lower level workings of the machines that allow us to work our magic."
   ]
  },
  {
   "cell_type": "markdown",
   "metadata": {},
   "source": [
    "The Pattern on the Stone made me realize this fully for the first time. For me, the fact that I had always been working with the elements that Hillis was describing, the fact that I had somehow still been able to manipulate the computer to do what I want without any significant understanding of its inner workings, sank in for me when I read his quote in chapter 3, \"The human computer programmer rarely thinks about these elements; instead, programmers work with a more convenient tool called a programming language.\" I realized while reading this book that just because these elements have been significantly abstracted does not mean that they are no longer present or shouldn't be considered. What's been even more interesting to me is the fact that after learning about these ideas, I started to realize that they're present everywhere in my code. It almost felt like rediscovering this for the first time, even though it'd all already been done before."
   ]
  },
  {
   "cell_type": "markdown",
   "metadata": {},
   "source": [
    "From this point I started to be a lot more interested in the ideas Hillis was presenting. I went back and glossed over the first couple chapters again, because I knew I had disregarded some of the meaning. After all, people had been telling me that computers think in 1's and 0's my whole life. After touching computer code for the first time I figured that was a lie made up to make computer programmers seem like some sort of genius wizard, when here I was, telling the computer what to do in plain english (albeit with a lot more punctuation). Already with the knowledge I've gained from this book, I'm able to troubleshoot in my other programming class easier. Knowing how objects are represented in memory makes a world of difference in knowing how to store or compare them. The same goes for optimizing programs, although it's not yet required, I know it will be soon, so I'm making an effort to get into good habits and do things like store data to memory only once."
   ]
  },
  {
   "cell_type": "markdown",
   "metadata": {},
   "source": [
    "As a whole, Hillis' writings were much more approachable than a traditional textbook. At first his approach in detailing his own experiences was a little intimidating; hearing his stories of constructing such complicated things as a tic-tac-toe or tinker toy computer felt like unreachable feats. However, I later learned to favor this approach as it was a pleasant change of pace from the depersonalized textbook writer who acts as if they have no slant, Hillis was upfront about what little he had, making it easy to make up your mind on your own. Overall, I like the approach to textbooks that this class has, The Pattern on the Stone included. I've never read, or really been expected to read, a textbook cover to cover. Hillis makes this easy, and I as a student came out with a lot more knowledge because of it."
   ]
  },
  {
   "cell_type": "markdown",
   "metadata": {},
   "source": []
  }
 ],
 "metadata": {
  "kernelspec": {
   "display_name": "Python 2",
   "language": "python",
   "name": "python2"
  }
 },
 "nbformat": 4,
 "nbformat_minor": 1
}
